{
 "cells": [
  {
   "cell_type": "markdown",
   "id": "49e1c55a04e328ad",
   "metadata": {},
   "source": [
    "1) IMPORTURI ȘI CONFIGURARE"
   ]
  },
  {
   "cell_type": "code",
   "execution_count": 1,
   "id": "initial_id",
   "metadata": {
    "jupyter": {
     "is_executing": true
    }
   },
   "outputs": [
    {
     "name": "stderr",
     "output_type": "stream",
     "text": [
      "c:\\Users\\dcata\\Desktop\\FACULTA\\ANUL 3 SEM 2\\Internship Veridion\\Veridion_challenge\\.venv\\lib\\site-packages\\tqdm\\auto.py:21: TqdmWarning: IProgress not found. Please update jupyter and ipywidgets. See https://ipywidgets.readthedocs.io/en/stable/user_install.html\n",
      "  from .autonotebook import tqdm as notebook_tqdm\n"
     ]
    }
   ],
   "source": [
    "import os\n",
    "import re\n",
    "import pandas as pd\n",
    "import torch\n",
    "from sentence_transformers import SentenceTransformer, util"
   ]
  },
  {
   "cell_type": "code",
   "execution_count": null,
   "id": "6710143329b3c1be",
   "metadata": {},
   "outputs": [],
   "source": [
    "# Căi de fișiere\n",
    "FILE_PATH_COMPANIES = r\"C:\\Users\\...\\ml_insurance_challenge.csv\"\n",
    "FILE_PATH_TAXONOMY  = r\"C:\\Users\\...\\insurance_taxonomy.txt\"\n",
    "OUTPUT_FILE_PATH    = r\"C:\\Users\\...\\output_refined.csv\"\n",
    "\n",
    "MODEL_NAME = \"sentence-transformers/all-mpnet-base-v2\"\n",
    "\n",
    "# Parametri clasificare\n",
    "THRESHOLD = 0.4\n",
    "TOP_K = 2\n",
    "BOOST_VALUE = 0.015\n",
    "\n",
    "# Sinonime\n",
    "SYNONYMS = {\n",
    "    r\"\\binsurance\\b\": \"insurance\",\n",
    "    r\"\\binsured\\b\":  \"insurance\",\n",
    "    r\"\\bpolicy(ies)?\\b\": \"policy\",\n",
    "    r\"\\bclaims?\\b\": \"claims\"\n",
    "}\n",
    "\n",
    "# LABEL_BOOST se adaugă ulterior din variabilă externă dacă e mare\n",
    "from label_boost import LABEL_BOOST"
   ]
  },
  {
   "cell_type": "markdown",
   "id": "2cb550cc",
   "metadata": {},
   "source": [
    "2. CITIRE FIȘIER"
   ]
  },
  {
   "cell_type": "code",
   "execution_count": 5,
   "id": "d783c230",
   "metadata": {},
   "outputs": [],
   "source": [
    "def load_data():\n",
    "    if not os.path.exists(FILE_PATH_COMPANIES):\n",
    "        raise FileNotFoundError(f\"Fișier companii inexistent: {FILE_PATH_COMPANIES}\")\n",
    "    if not os.path.exists(FILE_PATH_TAXONOMY):\n",
    "        raise FileNotFoundError(f\"Fișier taxonomie inexistent: {FILE_PATH_TAXONOMY}\")\n",
    "    df = pd.read_csv(FILE_PATH_COMPANIES)\n",
    "    with open(FILE_PATH_TAXONOMY, \"r\", encoding=\"utf-8\") as f:\n",
    "        taxonomy_labels = [line.strip() for line in f if line.strip()]\n",
    "    return df, taxonomy_labels\n",
    "\n",
    "df_companies, taxonomy_labels = load_data()"
   ]
  },
  {
   "cell_type": "markdown",
   "id": "e19ef47d",
   "metadata": {},
   "source": [
    "3. CURATARE ȘI ENRICHMENT TEXT"
   ]
  },
  {
   "cell_type": "code",
   "execution_count": 6,
   "id": "72d327e4",
   "metadata": {},
   "outputs": [],
   "source": [
    "TEXT_COLUMNS = [\"description\", \"business_tags\", \"sector\", \"category\", \"niche\"]\n",
    "\n",
    "def clean_and_enrich_text(row):\n",
    "    parts = []\n",
    "    for col in TEXT_COLUMNS:\n",
    "        if col in row and pd.notna(row[col]):\n",
    "            parts.append(str(row[col]).strip().lower())\n",
    "    full_text = \" \".join(parts)\n",
    "    for pattern, replacement in SYNONYMS.items():\n",
    "        full_text = re.sub(pattern, replacement, full_text)\n",
    "    full_text = re.sub(r\"[^a-z0-9\\s]\", \" \", full_text)\n",
    "    full_text = re.sub(r\"\\s+\", \" \", full_text).strip()\n",
    "    return full_text"
   ]
  },
  {
   "cell_type": "markdown",
   "id": "a7b010d6",
   "metadata": {},
   "source": [
    "4. APLICĂ CURĂȚAREA PE TOT DF"
   ]
  },
  {
   "cell_type": "code",
   "execution_count": 8,
   "id": "cd9229e0",
   "metadata": {},
   "outputs": [],
   "source": [
    "def preprocess_companies(df):\n",
    "    df[\"combined_text\"] = df.apply(clean_and_enrich_text, axis=1)\n",
    "    return df\n",
    "\n",
    "df_companies = preprocess_companies(df_companies)"
   ]
  },
  {
   "cell_type": "markdown",
   "id": "311542ef",
   "metadata": {},
   "source": [
    "5. EMBEDDINGS ȘI BOOST"
   ]
  },
  {
   "cell_type": "code",
   "execution_count": 9,
   "id": "dd29b803",
   "metadata": {},
   "outputs": [
    {
     "name": "stderr",
     "output_type": "stream",
     "text": [
      "Batches: 100%|██████████| 297/297 [18:01<00:00,  3.64s/it]\n",
      "Batches: 100%|██████████| 7/7 [00:01<00:00,  5.86it/s]\n"
     ]
    }
   ],
   "source": [
    "def compute_embeddings_and_scores(df, taxonomy_labels):\n",
    "    model = SentenceTransformer(MODEL_NAME)\n",
    "    company_texts = df[\"combined_text\"].tolist()\n",
    "    company_embeddings = model.encode(company_texts, convert_to_tensor=True, show_progress_bar=True)\n",
    "    label_embeddings = model.encode(taxonomy_labels, convert_to_tensor=True, show_progress_bar=True)\n",
    "    return util.cos_sim(company_embeddings, label_embeddings)\n",
    "\n",
    "cos_sim_matrix = compute_embeddings_and_scores(df_companies, taxonomy_labels)\n",
    "\n",
    "def apply_rule_based_boost(df, cos_sim_matrix, taxonomy_labels, label_boost_map, boost_value=BOOST_VALUE):\n",
    "    cos_sim_cpu = cos_sim_matrix.cpu()\n",
    "    label_to_index = {label: idx for idx, label in enumerate(taxonomy_labels)}\n",
    "    for i, row in df.iterrows():\n",
    "        text = row[\"combined_text\"]\n",
    "        for label, keywords in label_boost_map.items():\n",
    "            if label not in label_to_index:\n",
    "                continue\n",
    "            label_idx = label_to_index[label]\n",
    "            if any(keyword in text for keyword in keywords):\n",
    "                cos_sim_cpu[i, label_idx] += boost_value\n",
    "    return cos_sim_cpu\n",
    "\n",
    "cos_sim_matrix = apply_rule_based_boost(df_companies, cos_sim_matrix, taxonomy_labels, LABEL_BOOST)"
   ]
  },
  {
   "cell_type": "markdown",
   "id": "80cce3c3",
   "metadata": {},
   "source": [
    "6. CLASIFICARE"
   ]
  },
  {
   "cell_type": "code",
   "execution_count": 10,
   "id": "dfb10eb7",
   "metadata": {},
   "outputs": [],
   "source": [
    "def classify_companies(df, cos_sim_matrix, taxonomy_labels, threshold=THRESHOLD, top_k=TOP_K):\n",
    "    assigned_hybrid, assigned_topk, best_scores = [], [], []\n",
    "    for i in range(len(df)):\n",
    "        scores = cos_sim_matrix[i]\n",
    "        above_thr_idx = torch.where(scores > threshold)[0]\n",
    "        if len(above_thr_idx) > 0:\n",
    "            selected_labels = [taxonomy_labels[idx] for idx in above_thr_idx.tolist()]\n",
    "            assigned_hybrid.append(\", \".join(selected_labels))\n",
    "        else:\n",
    "            max_score_val, max_idx = torch.max(scores, dim=0)\n",
    "            assigned_hybrid.append(taxonomy_labels[max_idx.item()])\n",
    "        sorted_indices = torch.argsort(scores, descending=True)[:top_k]\n",
    "        assigned_topk.append(\", \".join([taxonomy_labels[idx] for idx in sorted_indices]))\n",
    "        best_scores.append(float(torch.max(scores).item()))\n",
    "    df[\"assigned_hybrid\"] = assigned_hybrid\n",
    "    df[\"assigned_topk\"] = assigned_topk\n",
    "    df[\"best_score\"] = best_scores\n",
    "    return df\n",
    "\n",
    "df_companies = classify_companies(df_companies, cos_sim_matrix, taxonomy_labels)"
   ]
  },
  {
   "cell_type": "markdown",
   "id": "39a54d39",
   "metadata": {},
   "source": [
    "7. SALVARE DATE IN FORMAT CSV"
   ]
  },
  {
   "cell_type": "code",
   "execution_count": 13,
   "id": "9160359f",
   "metadata": {},
   "outputs": [
    {
     "name": "stdout",
     "output_type": "stream",
     "text": [
      "Rezultate salvate în: C:\\Users\\dcata\\Desktop\\FACULTA\\ANUL 3 SEM 2\\Internship Veridion\\Veridion_challenge\\output_refined.csv\n"
     ]
    }
   ],
   "source": [
    "df_companies.to_csv(OUTPUT_FILE_PATH, index=False, encoding=\"utf-8\")\n",
    "print(f\"Rezultate salvate în: {OUTPUT_FILE_PATH}\")"
   ]
  }
 ],
 "metadata": {
  "kernelspec": {
   "display_name": ".venv",
   "language": "python",
   "name": "python3"
  },
  "language_info": {
   "codemirror_mode": {
    "name": "ipython",
    "version": 3
   },
   "file_extension": ".py",
   "mimetype": "text/x-python",
   "name": "python",
   "nbconvert_exporter": "python",
   "pygments_lexer": "ipython3",
   "version": "3.9.13"
  }
 },
 "nbformat": 4,
 "nbformat_minor": 5
}
